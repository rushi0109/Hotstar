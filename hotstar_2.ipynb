{
  "nbformat": 4,
  "nbformat_minor": 0,
  "metadata": {
    "colab": {
      "name": "hotstar_2.ipynb",
      "version": "0.3.2",
      "provenance": [],
      "include_colab_link": true
    },
    "kernelspec": {
      "name": "python3",
      "display_name": "Python 3"
    },
    "accelerator": "GPU"
  },
  "cells": [
    {
      "cell_type": "markdown",
      "metadata": {
        "id": "view-in-github",
        "colab_type": "text"
      },
      "source": [
        "[View in Colaboratory](https://colab.research.google.com/github/rushi0109/Hotstar/blob/master/hotstar_2.ipynb)"
      ]
    },
    {
      "metadata": {
        "id": "OrKBRGbTqauV",
        "colab_type": "code",
        "colab": {
          "base_uri": "https://localhost:8080/",
          "height": 272
        },
        "outputId": "de7a14a4-7e3f-46b0-8709-c93044c90360"
      },
      "cell_type": "code",
      "source": [
        "!wget https://he-s3.s3.amazonaws.com/media/hackathon/machine-learning-indiahacks-2017/5f828822-4--4-hotstar_dataset.zip\n",
        "!unzip 5f828822-4--4-hotstar_dataset.zip"
      ],
      "execution_count": 1,
      "outputs": [
        {
          "output_type": "stream",
          "text": [
            "--2018-08-26 14:36:33--  https://he-s3.s3.amazonaws.com/media/hackathon/machine-learning-indiahacks-2017/5f828822-4--4-hotstar_dataset.zip\n",
            "Resolving he-s3.s3.amazonaws.com (he-s3.s3.amazonaws.com)... 52.219.32.76\n",
            "Connecting to he-s3.s3.amazonaws.com (he-s3.s3.amazonaws.com)|52.219.32.76|:443... connected.\n",
            "HTTP request sent, awaiting response... 200 OK\n",
            "Length: 51766669 (49M) [application/zip]\n",
            "Saving to: ‘5f828822-4--4-hotstar_dataset.zip’\n",
            "\n",
            "5f828822-4--4-hotst 100%[===================>]  49.37M  8.98MB/s    in 15s     \n",
            "\n",
            "2018-08-26 14:36:49 (3.29 MB/s) - ‘5f828822-4--4-hotstar_dataset.zip’ saved [51766669/51766669]\n",
            "\n",
            "Archive:  5f828822-4--4-hotstar_dataset.zip\n",
            "  inflating: sample_submission.csv   \n",
            "  inflating: test_data.json          \n",
            "  inflating: train_data.json         \n"
          ],
          "name": "stdout"
        }
      ]
    },
    {
      "metadata": {
        "id": "RQ-WPZhpqpJW",
        "colab_type": "code",
        "colab": {}
      },
      "cell_type": "code",
      "source": [
        "import numpy as np\n",
        "import pandas as pd\n",
        "import re\n",
        "train_data = pd.read_json('train_data.json',orient='index')"
      ],
      "execution_count": 0,
      "outputs": []
    },
    {
      "metadata": {
        "id": "oHbsfU3iqy-X",
        "colab_type": "code",
        "colab": {}
      },
      "cell_type": "code",
      "source": [
        "train_data['g1'] = [re.sub(pattern='\\:\\d+',repl='',string=x) for x in train_data['genres']]\n",
        "train_data['g1'] = train_data['g1'].apply(lambda x: x.split(','))\n",
        "t1 = pd.Series(train_data['g1']).apply(frozenset).to_frame(name='t_genre')\n",
        "genreSet = frozenset.union(*t1.t_genre)"
      ],
      "execution_count": 0,
      "outputs": []
    },
    {
      "metadata": {
        "id": "5srf0goKqzmN",
        "colab_type": "code",
        "colab": {}
      },
      "cell_type": "code",
      "source": [
        "def string_genres_time(genre, string):\n",
        " if genre in string:\n",
        "   prbmStr = string[string.index(genre) :]\n",
        "   #print(prbmStr)\n",
        "   problemStr = prbmStr[prbmStr.index(':')+1:]\n",
        "   #print(problemStr)\n",
        "   #print(problemStr.index(','))\n",
        "   if ',' in problemStr:\n",
        "     return int(problemStr[0:problemStr.index(',')])\n",
        "   else:\n",
        "     return int(problemStr[0:])\n",
        " else:\n",
        "   return 0"
      ],
      "execution_count": 0,
      "outputs": []
    },
    {
      "metadata": {
        "id": "3XiIDp97q2g6",
        "colab_type": "code",
        "colab": {}
      },
      "cell_type": "code",
      "source": [
        "def string_dow_time(genre, string):\n",
        " if genre in string:\n",
        "   prbmStr = string[string.index(genre) :]\n",
        "   #print(prbmStr)\n",
        "   problemStr = prbmStr[prbmStr.index(':')+1:]\n",
        "   #print(problemStr)\n",
        "   #print(problemStr.index(','))\n",
        "   if ',' in problemStr:\n",
        "     return int(problemStr[0:problemStr.index(',')])\n",
        "   else:\n",
        "     return int(problemStr[0:])\n",
        " else:\n",
        "   return 0"
      ],
      "execution_count": 0,
      "outputs": []
    },
    {
      "metadata": {
        "id": "jF2yFV9gq4-n",
        "colab_type": "code",
        "colab": {}
      },
      "cell_type": "code",
      "source": [
        "def string_tod_time(genre, string):\n",
        "\tif genre in string:\n",
        "\t\tprbmStr = string[string.index(genre) :]\n",
        "\t\t#print(prbmStr)\n",
        "\t\tproblemStr = prbmStr[prbmStr.index(':')+1:]\n",
        "\t\t#print(problemStr)\n",
        "\t\t#print(problemStr.index(','))\n",
        "\t\tif ',' in problemStr:\n",
        "\t\t\treturn int(problemStr[0:problemStr.index(',')])\n",
        "\t\telse:\n",
        "\t\t\treturn int(problemStr[0:])\n",
        "\telse:\n",
        "\t\ttodData = genre[1:]\n",
        "\t\tif todData in string:\n",
        "\t\t\tif string.index(todData) == 0:\n",
        "\t\t\t\tprbmStr = string[string.index(todData) :]\n",
        "\t\t\t\t#print(prbmStr)\n",
        "\t\t\t\tproblemStr = prbmStr[prbmStr.index(':')+1:]\n",
        "\t\t\t\t#print(problemStr)\n",
        "\t\t\t\t#print(problemStr.index(','))\n",
        "\t\t\t\tif ',' in problemStr:\n",
        "\t\t\t\t\treturn int(problemStr[0:problemStr.index(',')])\n",
        "\t\t\t\telse:\n",
        "\t\t\t\t\treturn int(problemStr[0:])\n",
        "\t\t\telse:\n",
        "\t\t\t\treturn 0\n",
        "\t\telse:\n",
        "\t\t\treturn 0"
      ],
      "execution_count": 0,
      "outputs": []
    },
    {
      "metadata": {
        "id": "qqY2v95fq7xn",
        "colab_type": "code",
        "colab": {}
      },
      "cell_type": "code",
      "source": [
        "for i in genreSet:\n",
        "  train_data[i] = train_data[\"genres\"].apply(lambda x : string_genres_time(i, x))"
      ],
      "execution_count": 0,
      "outputs": []
    },
    {
      "metadata": {
        "id": "jKsFjoRzrCSK",
        "colab_type": "code",
        "colab": {}
      },
      "cell_type": "code",
      "source": [
        "for i in np.arange(1,8):\n",
        "  str_i = str(i) + ':'\n",
        "  train_data[i] = train_data[\"dow\"].apply(lambda x : string_dow_time(str_i, x))"
      ],
      "execution_count": 0,
      "outputs": []
    },
    {
      "metadata": {
        "id": "nk_RWQBjrE7I",
        "colab_type": "code",
        "colab": {}
      },
      "cell_type": "code",
      "source": [
        "for i in np.arange(0,24):\n",
        "  str_i = ','+str(i)+':'\n",
        "  colName = 'tod_'+str(i)\n",
        "  train_data[colName] = train_data[\"tod\"].apply(lambda x : string_genres_time(str_i, x))"
      ],
      "execution_count": 0,
      "outputs": []
    },
    {
      "metadata": {
        "id": "qhaTCWrSrW5R",
        "colab_type": "code",
        "colab": {}
      },
      "cell_type": "code",
      "source": [
        "train_data.drop(['g1','tod','dow','genres'],inplace=True,axis=1)"
      ],
      "execution_count": 0,
      "outputs": []
    },
    {
      "metadata": {
        "id": "FDRCrS5Hrcie",
        "colab_type": "code",
        "colab": {}
      },
      "cell_type": "code",
      "source": [
        "train_data.drop('cities',inplace=True,axis=1)"
      ],
      "execution_count": 0,
      "outputs": []
    },
    {
      "metadata": {
        "id": "aLclKF11YuBz",
        "colab_type": "code",
        "colab": {}
      },
      "cell_type": "code",
      "source": [
        "def get_int_value(param):\n",
        "  return int(param[1:])"
      ],
      "execution_count": 0,
      "outputs": []
    },
    {
      "metadata": {
        "id": "zOwClsZt8Jjf",
        "colab_type": "code",
        "colab": {}
      },
      "cell_type": "code",
      "source": [
        "def getTimeList(titeString):\n",
        "  return np.array([get_int_value(item) for item in re.findall('\\:\\d+',titeString)])"
      ],
      "execution_count": 0,
      "outputs": []
    },
    {
      "metadata": {
        "id": "qCnC39XayAuT",
        "colab_type": "code",
        "colab": {}
      },
      "cell_type": "code",
      "source": [
        "train_data['g2'] = [getTimeList(x) for x in train_data['titles']]\n",
        "#train_data['g2'] = train_data['g2'].apply(lambda x: x.split(','))\n",
        "#t1 = pd.Series(train_data['g2']).apply(frozenset).to_frame(name='t_titles')\n",
        "#titlesSet = frozenset.union(*t1.t_titles)"
      ],
      "execution_count": 0,
      "outputs": []
    },
    {
      "metadata": {
        "id": "3VQJ7kwN8k-I",
        "colab_type": "code",
        "colab": {
          "base_uri": "https://localhost:8080/",
          "height": 51
        },
        "outputId": "d8205421-3e3f-4a10-d6ab-c8386f36481d"
      },
      "cell_type": "code",
      "source": [
        "train_data['title_mean'] = train_data['g2'].apply(np.mean)"
      ],
      "execution_count": 69,
      "outputs": [
        {
          "output_type": "stream",
          "text": [
            "/usr/local/lib/python3.6/dist-packages/numpy/core/fromnumeric.py:2957: RuntimeWarning: Mean of empty slice.\n",
            "  out=out, **kwargs)\n"
          ],
          "name": "stderr"
        }
      ]
    },
    {
      "metadata": {
        "id": "Nd_BsNH__gBE",
        "colab_type": "code",
        "colab": {
          "base_uri": "https://localhost:8080/",
          "height": 51
        },
        "outputId": "e944f55b-4573-472f-b010-0fb64d0c07c9"
      },
      "cell_type": "code",
      "source": [
        "train_data['title_median'] = train_data['g2'].apply(np.median)\n",
        "train_data['title_sum'] = train_data['g2'].apply(np.sum)\n"
      ],
      "execution_count": 77,
      "outputs": [
        {
          "output_type": "stream",
          "text": [
            "/usr/local/lib/python3.6/dist-packages/numpy/core/fromnumeric.py:2957: RuntimeWarning: Mean of empty slice.\n",
            "  out=out, **kwargs)\n"
          ],
          "name": "stderr"
        }
      ]
    },
    {
      "metadata": {
        "id": "gtDI2nPVZxot",
        "colab_type": "code",
        "colab": {}
      },
      "cell_type": "code",
      "source": [
        "train_data['title_count'] = train_data['g2'].apply(len)"
      ],
      "execution_count": 0,
      "outputs": []
    },
    {
      "metadata": {
        "id": "jrInymfsZwS0",
        "colab_type": "code",
        "colab": {}
      },
      "cell_type": "code",
      "source": [
        "train_data.drop('g2',inplace=True,axis=1)"
      ],
      "execution_count": 0,
      "outputs": []
    },
    {
      "metadata": {
        "id": "gDNEv14OygtH",
        "colab_type": "code",
        "colab": {}
      },
      "cell_type": "code",
      "source": [
        "train_data.drop('titles',axis=1,inplace=True)"
      ],
      "execution_count": 0,
      "outputs": []
    },
    {
      "metadata": {
        "id": "wNdLD8w_aI2b",
        "colab_type": "code",
        "colab": {
          "base_uri": "https://localhost:8080/",
          "height": 1309
        },
        "outputId": "1e0278ce-2b98-4927-8b1b-edfcb56661e3"
      },
      "cell_type": "code",
      "source": [
        "train_data.info()"
      ],
      "execution_count": 83,
      "outputs": [
        {
          "output_type": "stream",
          "text": [
            "<class 'pandas.core.frame.DataFrame'>\n",
            "Index: 200000 entries, train-1 to train-99999\n",
            "Data columns (total 71 columns):\n",
            "segment         200000 non-null object\n",
            "Family          200000 non-null int64\n",
            "Tennis          200000 non-null int64\n",
            "Kids            200000 non-null int64\n",
            "Mythology       200000 non-null int64\n",
            "TalkShow        200000 non-null int64\n",
            "FormulaE        200000 non-null int64\n",
            "Hockey          200000 non-null int64\n",
            "Action          200000 non-null int64\n",
            "Crime           200000 non-null int64\n",
            "Football        200000 non-null int64\n",
            "Boxing          200000 non-null int64\n",
            "Athletics       200000 non-null int64\n",
            "Science         200000 non-null int64\n",
            "NA              200000 non-null int64\n",
            "Awards          200000 non-null int64\n",
            "Wildlife        200000 non-null int64\n",
            "Romance         200000 non-null int64\n",
            "Thriller        200000 non-null int64\n",
            "Horror          200000 non-null int64\n",
            "Badminton       200000 non-null int64\n",
            "Sport           200000 non-null int64\n",
            "Documentary     200000 non-null int64\n",
            "Cricket         200000 non-null int64\n",
            "Travel          200000 non-null int64\n",
            "Volleyball      200000 non-null int64\n",
            "Teen            200000 non-null int64\n",
            "Reality         200000 non-null int64\n",
            "LiveTV          200000 non-null int64\n",
            "Swimming        200000 non-null int64\n",
            "Comedy          200000 non-null int64\n",
            "Table Tennis    200000 non-null int64\n",
            "Kabaddi         200000 non-null int64\n",
            "Drama           200000 non-null int64\n",
            "Formula1        200000 non-null int64\n",
            "IndiaVsSa       200000 non-null int64\n",
            "1               200000 non-null int64\n",
            "2               200000 non-null int64\n",
            "3               200000 non-null int64\n",
            "4               200000 non-null int64\n",
            "5               200000 non-null int64\n",
            "6               200000 non-null int64\n",
            "7               200000 non-null int64\n",
            "tod_0           200000 non-null int64\n",
            "tod_1           200000 non-null int64\n",
            "tod_2           200000 non-null int64\n",
            "tod_3           200000 non-null int64\n",
            "tod_4           200000 non-null int64\n",
            "tod_5           200000 non-null int64\n",
            "tod_6           200000 non-null int64\n",
            "tod_7           200000 non-null int64\n",
            "tod_8           200000 non-null int64\n",
            "tod_9           200000 non-null int64\n",
            "tod_10          200000 non-null int64\n",
            "tod_11          200000 non-null int64\n",
            "tod_12          200000 non-null int64\n",
            "tod_13          200000 non-null int64\n",
            "tod_14          200000 non-null int64\n",
            "tod_15          200000 non-null int64\n",
            "tod_16          200000 non-null int64\n",
            "tod_17          200000 non-null int64\n",
            "tod_18          200000 non-null int64\n",
            "tod_19          200000 non-null int64\n",
            "tod_20          200000 non-null int64\n",
            "tod_21          200000 non-null int64\n",
            "tod_22          200000 non-null int64\n",
            "tod_23          200000 non-null int64\n",
            "title_mean      199954 non-null float64\n",
            "title_median    199954 non-null float64\n",
            "title_sum       200000 non-null float64\n",
            "title_count     200000 non-null int64\n",
            "dtypes: float64(3), int64(67), object(1)\n",
            "memory usage: 114.9+ MB\n"
          ],
          "name": "stdout"
        }
      ]
    },
    {
      "metadata": {
        "id": "gde2rxJrys4E",
        "colab_type": "code",
        "colab": {}
      },
      "cell_type": "code",
      "source": [
        "all_cols = list(train_data.columns)"
      ],
      "execution_count": 0,
      "outputs": []
    },
    {
      "metadata": {
        "id": "Mk32PuZ8atax",
        "colab_type": "code",
        "colab": {}
      },
      "cell_type": "code",
      "source": [
        "all_cols.remove('title_count')\n",
        "all_cols.remove('segment')"
      ],
      "execution_count": 0,
      "outputs": []
    },
    {
      "metadata": {
        "id": "OkW6eb9fbJ0h",
        "colab_type": "code",
        "colab": {}
      },
      "cell_type": "code",
      "source": [
        "train_data[all_cols] = train_data[all_cols]/60"
      ],
      "execution_count": 0,
      "outputs": []
    },
    {
      "metadata": {
        "id": "VOW_9wZ_bYwo",
        "colab_type": "code",
        "colab": {}
      },
      "cell_type": "code",
      "source": [
        "train_data[all_cols] = train_data[all_cols].fillna(0)"
      ],
      "execution_count": 0,
      "outputs": []
    },
    {
      "metadata": {
        "id": "1nbCQ2Bab1kZ",
        "colab_type": "code",
        "colab": {}
      },
      "cell_type": "code",
      "source": [
        "train_data[all_cols] = train_data[all_cols].astype(int)"
      ],
      "execution_count": 0,
      "outputs": []
    },
    {
      "metadata": {
        "id": "-TSVB-pT0Tle",
        "colab_type": "code",
        "colab": {}
      },
      "cell_type": "code",
      "source": [
        "train_data['segment'].replace('pos',1,inplace=True)\n",
        "train_data['segment'].replace('neg',0,inplace=True)"
      ],
      "execution_count": 0,
      "outputs": []
    },
    {
      "metadata": {
        "id": "rfUbq_nfc_F7",
        "colab_type": "code",
        "colab": {
          "base_uri": "https://localhost:8080/",
          "height": 1969
        },
        "outputId": "c61d0f15-43ad-4a47-f13d-00f9e4bb126d"
      },
      "cell_type": "code",
      "source": [
        "train_data.head().T"
      ],
      "execution_count": 110,
      "outputs": [
        {
          "output_type": "execute_result",
          "data": {
            "text/html": [
              "<div>\n",
              "<style scoped>\n",
              "    .dataframe tbody tr th:only-of-type {\n",
              "        vertical-align: middle;\n",
              "    }\n",
              "\n",
              "    .dataframe tbody tr th {\n",
              "        vertical-align: top;\n",
              "    }\n",
              "\n",
              "    .dataframe thead th {\n",
              "        text-align: right;\n",
              "    }\n",
              "</style>\n",
              "<table border=\"1\" class=\"dataframe\">\n",
              "  <thead>\n",
              "    <tr style=\"text-align: right;\">\n",
              "      <th></th>\n",
              "      <th>train-1</th>\n",
              "      <th>train-10</th>\n",
              "      <th>train-100</th>\n",
              "      <th>train-1000</th>\n",
              "      <th>train-10000</th>\n",
              "    </tr>\n",
              "  </thead>\n",
              "  <tbody>\n",
              "    <tr>\n",
              "      <th>segment</th>\n",
              "      <td>0</td>\n",
              "      <td>0</td>\n",
              "      <td>0</td>\n",
              "      <td>0</td>\n",
              "      <td>0</td>\n",
              "    </tr>\n",
              "    <tr>\n",
              "      <th>Family</th>\n",
              "      <td>0</td>\n",
              "      <td>0</td>\n",
              "      <td>0</td>\n",
              "      <td>0</td>\n",
              "      <td>0</td>\n",
              "    </tr>\n",
              "    <tr>\n",
              "      <th>Tennis</th>\n",
              "      <td>0</td>\n",
              "      <td>0</td>\n",
              "      <td>0</td>\n",
              "      <td>0</td>\n",
              "      <td>0</td>\n",
              "    </tr>\n",
              "    <tr>\n",
              "      <th>Kids</th>\n",
              "      <td>0</td>\n",
              "      <td>0</td>\n",
              "      <td>0</td>\n",
              "      <td>0</td>\n",
              "      <td>0</td>\n",
              "    </tr>\n",
              "    <tr>\n",
              "      <th>Mythology</th>\n",
              "      <td>0</td>\n",
              "      <td>0</td>\n",
              "      <td>0</td>\n",
              "      <td>0</td>\n",
              "      <td>0</td>\n",
              "    </tr>\n",
              "    <tr>\n",
              "      <th>TalkShow</th>\n",
              "      <td>0</td>\n",
              "      <td>0</td>\n",
              "      <td>0</td>\n",
              "      <td>0</td>\n",
              "      <td>0</td>\n",
              "    </tr>\n",
              "    <tr>\n",
              "      <th>FormulaE</th>\n",
              "      <td>0</td>\n",
              "      <td>0</td>\n",
              "      <td>0</td>\n",
              "      <td>0</td>\n",
              "      <td>0</td>\n",
              "    </tr>\n",
              "    <tr>\n",
              "      <th>Hockey</th>\n",
              "      <td>0</td>\n",
              "      <td>0</td>\n",
              "      <td>0</td>\n",
              "      <td>0</td>\n",
              "      <td>0</td>\n",
              "    </tr>\n",
              "    <tr>\n",
              "      <th>Action</th>\n",
              "      <td>0</td>\n",
              "      <td>0</td>\n",
              "      <td>0</td>\n",
              "      <td>0</td>\n",
              "      <td>0</td>\n",
              "    </tr>\n",
              "    <tr>\n",
              "      <th>Crime</th>\n",
              "      <td>0</td>\n",
              "      <td>0</td>\n",
              "      <td>0</td>\n",
              "      <td>0</td>\n",
              "      <td>0</td>\n",
              "    </tr>\n",
              "    <tr>\n",
              "      <th>Football</th>\n",
              "      <td>0</td>\n",
              "      <td>0</td>\n",
              "      <td>1</td>\n",
              "      <td>0</td>\n",
              "      <td>0</td>\n",
              "    </tr>\n",
              "    <tr>\n",
              "      <th>Boxing</th>\n",
              "      <td>0</td>\n",
              "      <td>0</td>\n",
              "      <td>0</td>\n",
              "      <td>0</td>\n",
              "      <td>0</td>\n",
              "    </tr>\n",
              "    <tr>\n",
              "      <th>Athletics</th>\n",
              "      <td>0</td>\n",
              "      <td>0</td>\n",
              "      <td>0</td>\n",
              "      <td>0</td>\n",
              "      <td>0</td>\n",
              "    </tr>\n",
              "    <tr>\n",
              "      <th>Science</th>\n",
              "      <td>0</td>\n",
              "      <td>0</td>\n",
              "      <td>0</td>\n",
              "      <td>0</td>\n",
              "      <td>0</td>\n",
              "    </tr>\n",
              "    <tr>\n",
              "      <th>NA</th>\n",
              "      <td>0</td>\n",
              "      <td>0</td>\n",
              "      <td>0</td>\n",
              "      <td>0</td>\n",
              "      <td>0</td>\n",
              "    </tr>\n",
              "    <tr>\n",
              "      <th>Awards</th>\n",
              "      <td>0</td>\n",
              "      <td>0</td>\n",
              "      <td>0</td>\n",
              "      <td>0</td>\n",
              "      <td>0</td>\n",
              "    </tr>\n",
              "    <tr>\n",
              "      <th>Wildlife</th>\n",
              "      <td>0</td>\n",
              "      <td>0</td>\n",
              "      <td>0</td>\n",
              "      <td>0</td>\n",
              "      <td>0</td>\n",
              "    </tr>\n",
              "    <tr>\n",
              "      <th>Romance</th>\n",
              "      <td>0</td>\n",
              "      <td>0</td>\n",
              "      <td>0</td>\n",
              "      <td>0</td>\n",
              "      <td>0</td>\n",
              "    </tr>\n",
              "    <tr>\n",
              "      <th>Thriller</th>\n",
              "      <td>0</td>\n",
              "      <td>0</td>\n",
              "      <td>0</td>\n",
              "      <td>0</td>\n",
              "      <td>0</td>\n",
              "    </tr>\n",
              "    <tr>\n",
              "      <th>Horror</th>\n",
              "      <td>0</td>\n",
              "      <td>0</td>\n",
              "      <td>0</td>\n",
              "      <td>0</td>\n",
              "      <td>0</td>\n",
              "    </tr>\n",
              "    <tr>\n",
              "      <th>Badminton</th>\n",
              "      <td>0</td>\n",
              "      <td>0</td>\n",
              "      <td>0</td>\n",
              "      <td>0</td>\n",
              "      <td>0</td>\n",
              "    </tr>\n",
              "    <tr>\n",
              "      <th>Sport</th>\n",
              "      <td>0</td>\n",
              "      <td>0</td>\n",
              "      <td>0</td>\n",
              "      <td>0</td>\n",
              "      <td>0</td>\n",
              "    </tr>\n",
              "    <tr>\n",
              "      <th>Documentary</th>\n",
              "      <td>0</td>\n",
              "      <td>0</td>\n",
              "      <td>0</td>\n",
              "      <td>0</td>\n",
              "      <td>0</td>\n",
              "    </tr>\n",
              "    <tr>\n",
              "      <th>Cricket</th>\n",
              "      <td>22</td>\n",
              "      <td>4</td>\n",
              "      <td>0</td>\n",
              "      <td>2</td>\n",
              "      <td>0</td>\n",
              "    </tr>\n",
              "    <tr>\n",
              "      <th>Travel</th>\n",
              "      <td>0</td>\n",
              "      <td>0</td>\n",
              "      <td>0</td>\n",
              "      <td>0</td>\n",
              "      <td>0</td>\n",
              "    </tr>\n",
              "    <tr>\n",
              "      <th>Volleyball</th>\n",
              "      <td>0</td>\n",
              "      <td>0</td>\n",
              "      <td>0</td>\n",
              "      <td>0</td>\n",
              "      <td>0</td>\n",
              "    </tr>\n",
              "    <tr>\n",
              "      <th>Teen</th>\n",
              "      <td>0</td>\n",
              "      <td>0</td>\n",
              "      <td>0</td>\n",
              "      <td>0</td>\n",
              "      <td>0</td>\n",
              "    </tr>\n",
              "    <tr>\n",
              "      <th>Reality</th>\n",
              "      <td>1</td>\n",
              "      <td>0</td>\n",
              "      <td>0</td>\n",
              "      <td>0</td>\n",
              "      <td>0</td>\n",
              "    </tr>\n",
              "    <tr>\n",
              "      <th>LiveTV</th>\n",
              "      <td>0</td>\n",
              "      <td>0</td>\n",
              "      <td>0</td>\n",
              "      <td>0</td>\n",
              "      <td>0</td>\n",
              "    </tr>\n",
              "    <tr>\n",
              "      <th>Swimming</th>\n",
              "      <td>0</td>\n",
              "      <td>0</td>\n",
              "      <td>0</td>\n",
              "      <td>0</td>\n",
              "      <td>0</td>\n",
              "    </tr>\n",
              "    <tr>\n",
              "      <th>...</th>\n",
              "      <td>...</td>\n",
              "      <td>...</td>\n",
              "      <td>...</td>\n",
              "      <td>...</td>\n",
              "      <td>...</td>\n",
              "    </tr>\n",
              "    <tr>\n",
              "      <th>6</th>\n",
              "      <td>4</td>\n",
              "      <td>0</td>\n",
              "      <td>0</td>\n",
              "      <td>0</td>\n",
              "      <td>1</td>\n",
              "    </tr>\n",
              "    <tr>\n",
              "      <th>7</th>\n",
              "      <td>4</td>\n",
              "      <td>0</td>\n",
              "      <td>0</td>\n",
              "      <td>0</td>\n",
              "      <td>0</td>\n",
              "    </tr>\n",
              "    <tr>\n",
              "      <th>tod_0</th>\n",
              "      <td>0</td>\n",
              "      <td>0</td>\n",
              "      <td>0</td>\n",
              "      <td>0</td>\n",
              "      <td>0</td>\n",
              "    </tr>\n",
              "    <tr>\n",
              "      <th>tod_1</th>\n",
              "      <td>0</td>\n",
              "      <td>0</td>\n",
              "      <td>0</td>\n",
              "      <td>0</td>\n",
              "      <td>0</td>\n",
              "    </tr>\n",
              "    <tr>\n",
              "      <th>tod_2</th>\n",
              "      <td>0</td>\n",
              "      <td>0</td>\n",
              "      <td>0</td>\n",
              "      <td>0</td>\n",
              "      <td>0</td>\n",
              "    </tr>\n",
              "    <tr>\n",
              "      <th>tod_3</th>\n",
              "      <td>0</td>\n",
              "      <td>0</td>\n",
              "      <td>0</td>\n",
              "      <td>0</td>\n",
              "      <td>0</td>\n",
              "    </tr>\n",
              "    <tr>\n",
              "      <th>tod_4</th>\n",
              "      <td>0</td>\n",
              "      <td>0</td>\n",
              "      <td>0</td>\n",
              "      <td>0</td>\n",
              "      <td>0</td>\n",
              "    </tr>\n",
              "    <tr>\n",
              "      <th>tod_5</th>\n",
              "      <td>0</td>\n",
              "      <td>0</td>\n",
              "      <td>0</td>\n",
              "      <td>0</td>\n",
              "      <td>0</td>\n",
              "    </tr>\n",
              "    <tr>\n",
              "      <th>tod_6</th>\n",
              "      <td>0</td>\n",
              "      <td>0</td>\n",
              "      <td>0</td>\n",
              "      <td>0</td>\n",
              "      <td>0</td>\n",
              "    </tr>\n",
              "    <tr>\n",
              "      <th>tod_7</th>\n",
              "      <td>0</td>\n",
              "      <td>0</td>\n",
              "      <td>0</td>\n",
              "      <td>0</td>\n",
              "      <td>0</td>\n",
              "    </tr>\n",
              "    <tr>\n",
              "      <th>tod_8</th>\n",
              "      <td>0</td>\n",
              "      <td>0</td>\n",
              "      <td>0</td>\n",
              "      <td>0</td>\n",
              "      <td>0</td>\n",
              "    </tr>\n",
              "    <tr>\n",
              "      <th>tod_9</th>\n",
              "      <td>0</td>\n",
              "      <td>0</td>\n",
              "      <td>0</td>\n",
              "      <td>0</td>\n",
              "      <td>0</td>\n",
              "    </tr>\n",
              "    <tr>\n",
              "      <th>tod_10</th>\n",
              "      <td>0</td>\n",
              "      <td>0</td>\n",
              "      <td>0</td>\n",
              "      <td>0</td>\n",
              "      <td>0</td>\n",
              "    </tr>\n",
              "    <tr>\n",
              "      <th>tod_11</th>\n",
              "      <td>0</td>\n",
              "      <td>0</td>\n",
              "      <td>0</td>\n",
              "      <td>0</td>\n",
              "      <td>0</td>\n",
              "    </tr>\n",
              "    <tr>\n",
              "      <th>tod_12</th>\n",
              "      <td>0</td>\n",
              "      <td>0</td>\n",
              "      <td>0</td>\n",
              "      <td>0</td>\n",
              "      <td>0</td>\n",
              "    </tr>\n",
              "    <tr>\n",
              "      <th>tod_13</th>\n",
              "      <td>0</td>\n",
              "      <td>0</td>\n",
              "      <td>0</td>\n",
              "      <td>0</td>\n",
              "      <td>0</td>\n",
              "    </tr>\n",
              "    <tr>\n",
              "      <th>tod_14</th>\n",
              "      <td>0</td>\n",
              "      <td>0</td>\n",
              "      <td>0</td>\n",
              "      <td>0</td>\n",
              "      <td>0</td>\n",
              "    </tr>\n",
              "    <tr>\n",
              "      <th>tod_15</th>\n",
              "      <td>0</td>\n",
              "      <td>0</td>\n",
              "      <td>0</td>\n",
              "      <td>0</td>\n",
              "      <td>0</td>\n",
              "    </tr>\n",
              "    <tr>\n",
              "      <th>tod_16</th>\n",
              "      <td>0</td>\n",
              "      <td>0</td>\n",
              "      <td>0</td>\n",
              "      <td>0</td>\n",
              "      <td>0</td>\n",
              "    </tr>\n",
              "    <tr>\n",
              "      <th>tod_17</th>\n",
              "      <td>2</td>\n",
              "      <td>0</td>\n",
              "      <td>0</td>\n",
              "      <td>0</td>\n",
              "      <td>0</td>\n",
              "    </tr>\n",
              "    <tr>\n",
              "      <th>tod_18</th>\n",
              "      <td>1</td>\n",
              "      <td>0</td>\n",
              "      <td>0</td>\n",
              "      <td>0</td>\n",
              "      <td>0</td>\n",
              "    </tr>\n",
              "    <tr>\n",
              "      <th>tod_19</th>\n",
              "      <td>3</td>\n",
              "      <td>1</td>\n",
              "      <td>0</td>\n",
              "      <td>0</td>\n",
              "      <td>0</td>\n",
              "    </tr>\n",
              "    <tr>\n",
              "      <th>tod_20</th>\n",
              "      <td>6</td>\n",
              "      <td>0</td>\n",
              "      <td>0</td>\n",
              "      <td>0</td>\n",
              "      <td>0</td>\n",
              "    </tr>\n",
              "    <tr>\n",
              "      <th>tod_21</th>\n",
              "      <td>4</td>\n",
              "      <td>0</td>\n",
              "      <td>0</td>\n",
              "      <td>0</td>\n",
              "      <td>0</td>\n",
              "    </tr>\n",
              "    <tr>\n",
              "      <th>tod_22</th>\n",
              "      <td>2</td>\n",
              "      <td>0</td>\n",
              "      <td>0</td>\n",
              "      <td>0</td>\n",
              "      <td>1</td>\n",
              "    </tr>\n",
              "    <tr>\n",
              "      <th>tod_23</th>\n",
              "      <td>1</td>\n",
              "      <td>0</td>\n",
              "      <td>0</td>\n",
              "      <td>0</td>\n",
              "      <td>0</td>\n",
              "    </tr>\n",
              "    <tr>\n",
              "      <th>title_mean</th>\n",
              "      <td>0</td>\n",
              "      <td>0</td>\n",
              "      <td>0</td>\n",
              "      <td>0</td>\n",
              "      <td>0</td>\n",
              "    </tr>\n",
              "    <tr>\n",
              "      <th>title_median</th>\n",
              "      <td>0</td>\n",
              "      <td>0</td>\n",
              "      <td>0</td>\n",
              "      <td>0</td>\n",
              "      <td>0</td>\n",
              "    </tr>\n",
              "    <tr>\n",
              "      <th>title_sum</th>\n",
              "      <td>24</td>\n",
              "      <td>4</td>\n",
              "      <td>1</td>\n",
              "      <td>2</td>\n",
              "      <td>2</td>\n",
              "    </tr>\n",
              "    <tr>\n",
              "      <th>title_count</th>\n",
              "      <td>60</td>\n",
              "      <td>70</td>\n",
              "      <td>2</td>\n",
              "      <td>8</td>\n",
              "      <td>11</td>\n",
              "    </tr>\n",
              "  </tbody>\n",
              "</table>\n",
              "<p>71 rows × 5 columns</p>\n",
              "</div>"
            ],
            "text/plain": [
              "              train-1  train-10  train-100  train-1000  train-10000\n",
              "segment             0         0          0           0            0\n",
              "Family              0         0          0           0            0\n",
              "Tennis              0         0          0           0            0\n",
              "Kids                0         0          0           0            0\n",
              "Mythology           0         0          0           0            0\n",
              "TalkShow            0         0          0           0            0\n",
              "FormulaE            0         0          0           0            0\n",
              "Hockey              0         0          0           0            0\n",
              "Action              0         0          0           0            0\n",
              "Crime               0         0          0           0            0\n",
              "Football            0         0          1           0            0\n",
              "Boxing              0         0          0           0            0\n",
              "Athletics           0         0          0           0            0\n",
              "Science             0         0          0           0            0\n",
              "NA                  0         0          0           0            0\n",
              "Awards              0         0          0           0            0\n",
              "Wildlife            0         0          0           0            0\n",
              "Romance             0         0          0           0            0\n",
              "Thriller            0         0          0           0            0\n",
              "Horror              0         0          0           0            0\n",
              "Badminton           0         0          0           0            0\n",
              "Sport               0         0          0           0            0\n",
              "Documentary         0         0          0           0            0\n",
              "Cricket            22         4          0           2            0\n",
              "Travel              0         0          0           0            0\n",
              "Volleyball          0         0          0           0            0\n",
              "Teen                0         0          0           0            0\n",
              "Reality             1         0          0           0            0\n",
              "LiveTV              0         0          0           0            0\n",
              "Swimming            0         0          0           0            0\n",
              "...               ...       ...        ...         ...          ...\n",
              "6                   4         0          0           0            1\n",
              "7                   4         0          0           0            0\n",
              "tod_0               0         0          0           0            0\n",
              "tod_1               0         0          0           0            0\n",
              "tod_2               0         0          0           0            0\n",
              "tod_3               0         0          0           0            0\n",
              "tod_4               0         0          0           0            0\n",
              "tod_5               0         0          0           0            0\n",
              "tod_6               0         0          0           0            0\n",
              "tod_7               0         0          0           0            0\n",
              "tod_8               0         0          0           0            0\n",
              "tod_9               0         0          0           0            0\n",
              "tod_10              0         0          0           0            0\n",
              "tod_11              0         0          0           0            0\n",
              "tod_12              0         0          0           0            0\n",
              "tod_13              0         0          0           0            0\n",
              "tod_14              0         0          0           0            0\n",
              "tod_15              0         0          0           0            0\n",
              "tod_16              0         0          0           0            0\n",
              "tod_17              2         0          0           0            0\n",
              "tod_18              1         0          0           0            0\n",
              "tod_19              3         1          0           0            0\n",
              "tod_20              6         0          0           0            0\n",
              "tod_21              4         0          0           0            0\n",
              "tod_22              2         0          0           0            1\n",
              "tod_23              1         0          0           0            0\n",
              "title_mean          0         0          0           0            0\n",
              "title_median        0         0          0           0            0\n",
              "title_sum          24         4          1           2            2\n",
              "title_count        60        70          2           8           11\n",
              "\n",
              "[71 rows x 5 columns]"
            ]
          },
          "metadata": {
            "tags": []
          },
          "execution_count": 110
        }
      ]
    },
    {
      "metadata": {
        "id": "TF4bF_ZAzfBx",
        "colab_type": "code",
        "colab": {}
      },
      "cell_type": "code",
      "source": [
        ""
      ],
      "execution_count": 0,
      "outputs": []
    },
    {
      "metadata": {
        "id": "ClFeBKBl1piD",
        "colab_type": "code",
        "colab": {}
      },
      "cell_type": "code",
      "source": [
        "from sklearn.model_selection import train_test_split\n",
        "from sklearn.model_selection import GridSearchCV"
      ],
      "execution_count": 0,
      "outputs": []
    },
    {
      "metadata": {
        "id": "Fj4P5bHZdsEC",
        "colab_type": "code",
        "colab": {}
      },
      "cell_type": "code",
      "source": [
        "y_label = train_data.pop('segment')"
      ],
      "execution_count": 0,
      "outputs": []
    },
    {
      "metadata": {
        "id": "JBcvdBcmdxL5",
        "colab_type": "code",
        "colab": {}
      },
      "cell_type": "code",
      "source": [
        "X_train, X_test, y_train, y_test = train_test_split(train_data, y_label, test_size=0.3, random_state=9)"
      ],
      "execution_count": 0,
      "outputs": []
    },
    {
      "metadata": {
        "id": "fKbja2gRd3TK",
        "colab_type": "code",
        "colab": {}
      },
      "cell_type": "code",
      "source": [
        "from sklearn.linear_model import LogisticRegression\n",
        "from sklearn.model_selection import GridSearchCV,StratifiedKFold\n",
        "from sklearn.metrics import roc_auc_score,accuracy_score,confusion_matrix\n",
        "seed = 9"
      ],
      "execution_count": 0,
      "outputs": []
    },
    {
      "metadata": {
        "id": "eMQ_LxbBd6A6",
        "colab_type": "code",
        "colab": {
          "base_uri": "https://localhost:8080/",
          "height": 527
        },
        "outputId": "be5c8b61-032b-4c59-cac2-209ddd075284"
      },
      "cell_type": "code",
      "source": [
        "kf = StratifiedKFold(n_splits=5,shuffle=True,random_state=seed)\n",
        "pred_test_full =0\n",
        "cv_score =[]\n",
        "i=1\n",
        "for train_index,test_index in kf.split(X_train,y_train):\n",
        "    print('{} of KFold {}'.format(i,kf.n_splits))\n",
        "    xtr,xvl = X_train.iloc[train_index],X_train.iloc[test_index]\n",
        "    ytr,yvl = y_train.iloc[train_index],y_train.iloc[test_index]\n",
        "    \n",
        "    #model\n",
        "    lr = LogisticRegression()\n",
        "    lr.fit(xtr,ytr)\n",
        "    score = roc_auc_score(yvl,lr.predict(xvl))\n",
        "    print('ROC AUC score:',score)\n",
        "    cv_score.append(score)   \n",
        "    print('Test Accuracy: ',accuracy_score(yvl,lr.predict(xvl)))\n",
        "    print('Train Accuracy: ',accuracy_score(ytr,lr.predict(xtr)))\n",
        "    print('Confusion Matrix: ',confusion_matrix(yvl,lr.predict(xvl)))\n",
        "    i+=1"
      ],
      "execution_count": 117,
      "outputs": [
        {
          "output_type": "stream",
          "text": [
            "1 of KFold 5\n",
            "ROC AUC score: 0.50500699342885\n",
            "Test Accuracy:  0.9228956108710403\n",
            "Train Accuracy:  0.922552879936428\n",
            "Confusion Matrix:  [[25817    43]\n",
            " [ 2116    25]]\n",
            "2 of KFold 5\n",
            "ROC AUC score: 0.5039746320175347\n",
            "Test Accuracy:  0.9229642857142857\n",
            "Train Accuracy:  0.9226964285714285\n",
            "Confusion Matrix:  [[25823    36]\n",
            " [ 2121    20]]\n",
            "3 of KFold 5\n",
            "ROC AUC score: 0.5035492482053223\n",
            "Test Accuracy:  0.9221785714285714\n",
            "Train Accuracy:  0.9227410714285714\n",
            "Confusion Matrix:  [[25801    58]\n",
            " [ 2121    20]]\n",
            "4 of KFold 5\n",
            "ROC AUC score: 0.5038794620754283\n",
            "Test Accuracy:  0.9223928571428571\n",
            "Train Accuracy:  0.9226607142857143\n",
            "Confusion Matrix:  [[25806    53]\n",
            " [ 2120    21]]\n",
            "5 of KFold 5\n",
            "ROC AUC score: 0.5037270687585768\n",
            "Test Accuracy:  0.9221400764313011\n",
            "Train Accuracy:  0.9225810483834965\n",
            "Confusion Matrix:  [[25798    61]\n",
            " [ 2119    21]]\n"
          ],
          "name": "stdout"
        }
      ]
    },
    {
      "metadata": {
        "id": "EIeZ2axfd1Ed",
        "colab_type": "code",
        "colab": {}
      },
      "cell_type": "code",
      "source": [
        "from imblearn.over_sampling import RandomOverSampler\n",
        "ros = RandomOverSampler()\n",
        "X_resampled, y_resampled = ros.fit_sample(X_train, y_train)"
      ],
      "execution_count": 0,
      "outputs": []
    },
    {
      "metadata": {
        "id": "kvWp-HnpelXh",
        "colab_type": "code",
        "colab": {
          "base_uri": "https://localhost:8080/",
          "height": 34
        },
        "outputId": "a20562dd-e73c-47cb-d600-20594ba07d66"
      },
      "cell_type": "code",
      "source": [
        "X_train.shape"
      ],
      "execution_count": 121,
      "outputs": [
        {
          "output_type": "execute_result",
          "data": {
            "text/plain": [
              "(140000, 70)"
            ]
          },
          "metadata": {
            "tags": []
          },
          "execution_count": 121
        }
      ]
    },
    {
      "metadata": {
        "id": "fZM-8Ly5eLC3",
        "colab_type": "code",
        "colab": {
          "base_uri": "https://localhost:8080/",
          "height": 867
        },
        "outputId": "053a19ae-a6c1-41e2-e24b-d0d86a37583e"
      },
      "cell_type": "code",
      "source": [
        "kf = StratifiedKFold(n_splits=5,shuffle=True,random_state=seed)\n",
        "pred_test_full =0\n",
        "cv_score =[]\n",
        "i=1\n",
        "for train_index,test_index in kf.split(X_resampled,y_resampled):\n",
        "    print('{} of KFold {}'.format(i,kf.n_splits))\n",
        "    xtr,xvl = X_resampled[train_index],X_resampled[test_index]\n",
        "    ytr,yvl = y_resampled[train_index],y_resampled[test_index]\n",
        "    \n",
        "    #model\n",
        "    lr = LogisticRegression()\n",
        "    lr.fit(xtr,ytr)\n",
        "    score = roc_auc_score(yvl,lr.predict(xvl))\n",
        "    print('ROC AUC score:',score)\n",
        "    cv_score.append(score)   \n",
        "    print('Test Accuracy: ',accuracy_score(yvl,lr.predict(xvl)))\n",
        "    print('Train Accuracy: ',accuracy_score(ytr,lr.predict(xtr)))\n",
        "    print('Confusion Matrix: ',confusion_matrix(yvl,lr.predict(xvl)))\n",
        "    print('Validation Accuracy ',accuracy_score(y_test,lr.predict(X_test)))\n",
        "    print('Validation Confusion Matrix: ',confusion_matrix(y_test,lr.predict(X_test)))\n",
        "    print('------------------------------------------------------------------')\n",
        "    i+=1"
      ],
      "execution_count": 122,
      "outputs": [
        {
          "output_type": "stream",
          "text": [
            "1 of KFold 5\n",
            "ROC AUC score: 0.6841840680587781\n",
            "Test Accuracy:  0.6841840680587781\n",
            "Train Accuracy:  0.6815277079546773\n",
            "Confusion Matrix:  [[19763  6097]\n",
            " [10237 15623]]\n",
            "Validation Accuracy  0.75055\n",
            "Validation Confusion Matrix:  [[42311 13138]\n",
            " [ 1829  2722]]\n",
            "------------------------------------------------------------------\n",
            "2 of KFold 5\n",
            "ROC AUC score: 0.6844812251053792\n",
            "Test Accuracy:  0.6844812251053791\n",
            "Train Accuracy:  0.6815839593182323\n",
            "Confusion Matrix:  [[19802  6057]\n",
            " [10261 15598]]\n",
            "Validation Accuracy  0.7509833333333333\n",
            "Validation Confusion Matrix:  [[42332 13117]\n",
            " [ 1824  2727]]\n",
            "------------------------------------------------------------------\n",
            "3 of KFold 5\n",
            "ROC AUC score: 0.6816388878146874\n",
            "Test Accuracy:  0.6816388878146873\n",
            "Train Accuracy:  0.682309038351847\n",
            "Confusion Matrix:  [[19688  6171]\n",
            " [10294 15565]]\n",
            "Validation Accuracy  0.7518833333333333\n",
            "Validation Confusion Matrix:  [[42393 13056]\n",
            " [ 1831  2720]]\n",
            "------------------------------------------------------------------\n",
            "4 of KFold 5\n",
            "ROC AUC score: 0.6803820720058781\n",
            "Test Accuracy:  0.6803820720058781\n",
            "Train Accuracy:  0.6830921237081509\n",
            "Confusion Matrix:  [[19625  6234]\n",
            " [10296 15563]]\n",
            "Validation Accuracy  0.7519833333333333\n",
            "Validation Confusion Matrix:  [[42398 13051]\n",
            " [ 1830  2721]]\n",
            "------------------------------------------------------------------\n",
            "5 of KFold 5\n",
            "ROC AUC score: 0.6798793456823543\n",
            "Test Accuracy:  0.6798793456823543\n",
            "Train Accuracy:  0.6827199164708954\n",
            "Confusion Matrix:  [[19694  6165]\n",
            " [10391 15468]]\n",
            "Validation Accuracy  0.7515333333333334\n",
            "Validation Confusion Matrix:  [[42373 13076]\n",
            " [ 1832  2719]]\n",
            "------------------------------------------------------------------\n"
          ],
          "name": "stdout"
        }
      ]
    },
    {
      "metadata": {
        "id": "n2x6d1-9eTAq",
        "colab_type": "code",
        "colab": {}
      },
      "cell_type": "code",
      "source": [
        ""
      ],
      "execution_count": 0,
      "outputs": []
    },
    {
      "metadata": {
        "id": "P3duhLPsf4AW",
        "colab_type": "text"
      },
      "cell_type": "markdown",
      "source": [
        "Random Forest"
      ]
    },
    {
      "metadata": {
        "id": "xASTkCTof5ld",
        "colab_type": "code",
        "colab": {}
      },
      "cell_type": "code",
      "source": [
        ""
      ],
      "execution_count": 0,
      "outputs": []
    },
    {
      "metadata": {
        "id": "jjNgI_F6gAon",
        "colab_type": "code",
        "colab": {}
      },
      "cell_type": "code",
      "source": [
        ""
      ],
      "execution_count": 0,
      "outputs": []
    },
    {
      "metadata": {
        "id": "iRfZFYTndvNb",
        "colab_type": "code",
        "colab": {}
      },
      "cell_type": "code",
      "source": [
        ""
      ],
      "execution_count": 0,
      "outputs": []
    },
    {
      "metadata": {
        "id": "mIki-alw1x4j",
        "colab_type": "code",
        "colab": {
          "base_uri": "https://localhost:8080/",
          "height": 34
        },
        "outputId": "66276287-6988-4f4e-d563-2f1a2e8c14da"
      },
      "cell_type": "code",
      "source": [
        "#for item in mylismap(get_int_value,re.findall('\\:\\d+',reString))\n",
        "[get_int_value(item) for item in re.findall('\\:\\d+',reString)]"
      ],
      "execution_count": 43,
      "outputs": [
        {
          "output_type": "execute_result",
          "data": {
            "text/plain": [
              "[103, 61593]"
            ]
          },
          "metadata": {
            "tags": []
          },
          "execution_count": 43
        }
      ]
    },
    {
      "metadata": {
        "id": "z8wkmOSq3Y85",
        "colab_type": "code",
        "colab": {}
      },
      "cell_type": "code",
      "source": [
        "intString = ':103'"
      ],
      "execution_count": 0,
      "outputs": []
    },
    {
      "metadata": {
        "id": "u-XBQfaR3dPp",
        "colab_type": "code",
        "colab": {}
      },
      "cell_type": "code",
      "source": [
        ""
      ],
      "execution_count": 0,
      "outputs": []
    },
    {
      "metadata": {
        "id": "DFa46HWJ3pY5",
        "colab_type": "code",
        "colab": {
          "base_uri": "https://localhost:8080/",
          "height": 34
        },
        "outputId": "b0466ade-c319-485e-9513-2df1b084e12d"
      },
      "cell_type": "code",
      "source": [
        "get_int_value(intString)"
      ],
      "execution_count": 38,
      "outputs": [
        {
          "output_type": "execute_result",
          "data": {
            "text/plain": [
              "103"
            ]
          },
          "metadata": {
            "tags": []
          },
          "execution_count": 38
        }
      ]
    }
  ]
}